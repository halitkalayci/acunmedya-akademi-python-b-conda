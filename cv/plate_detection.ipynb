{
 "cells": [
  {
   "cell_type": "code",
   "execution_count": 1,
   "id": "90171356-33c6-47ad-9dce-ad3aa3edf62f",
   "metadata": {},
   "outputs": [],
   "source": [
    "#!pip install opencv-python ultralytics"
   ]
  },
  {
   "cell_type": "code",
   "execution_count": 7,
   "id": "0bc2836d-3ecf-4715-8fc7-02af2b9cefa8",
   "metadata": {},
   "outputs": [],
   "source": [
    "example_image_path = 'dataset/images/1.jpg'"
   ]
  },
  {
   "cell_type": "code",
   "execution_count": 8,
   "id": "bd07d93d-3ea9-49da-a77c-ee3784d5cbf8",
   "metadata": {},
   "outputs": [],
   "source": [
    "import cv2"
   ]
  },
  {
   "cell_type": "code",
   "execution_count": 9,
   "id": "92c8f99d-92a6-44f8-8b0f-e3cd1831e9d6",
   "metadata": {},
   "outputs": [
    {
     "data": {
      "text/plain": [
       "((4608, 2592, 3), 3)"
      ]
     },
     "execution_count": 9,
     "metadata": {},
     "output_type": "execute_result"
    }
   ],
   "source": [
    "img = cv2.imread(example_image_path)\n",
    "img.shape, img.ndim"
   ]
  },
  {
   "cell_type": "code",
   "execution_count": null,
   "id": "9d361665-91c7-4d2a-b89e-5e7bc265bbe0",
   "metadata": {},
   "outputs": [],
   "source": []
  }
 ],
 "metadata": {
  "kernelspec": {
   "display_name": "Python 3 (ipykernel)",
   "language": "python",
   "name": "python3"
  },
  "language_info": {
   "codemirror_mode": {
    "name": "ipython",
    "version": 3
   },
   "file_extension": ".py",
   "mimetype": "text/x-python",
   "name": "python",
   "nbconvert_exporter": "python",
   "pygments_lexer": "ipython3",
   "version": "3.11.11"
  }
 },
 "nbformat": 4,
 "nbformat_minor": 5
}
