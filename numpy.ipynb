{
 "cells": [
  {
   "cell_type": "code",
   "execution_count": 1,
   "id": "51b82ecc-3c1d-4ce9-93a6-41c2a787b8fe",
   "metadata": {},
   "outputs": [],
   "source": [
    "import numpy as np"
   ]
  },
  {
   "cell_type": "code",
   "execution_count": null,
   "id": "cb3e753e-890b-4398-b658-f15d5ac54631",
   "metadata": {},
   "outputs": [],
   "source": [
    "#!pip install numpy"
   ]
  },
  {
   "cell_type": "markdown",
   "id": "de337570-d9cd-49a0-a2c0-acbcdd1437d5",
   "metadata": {},
   "source": [
    "# Numpy (NumericPython)\n",
    "\n",
    "Pythonda matematiksel işlemleri hızlı bir biçimde yapabilmemizi sağlayan kütüphane"
   ]
  },
  {
   "cell_type": "code",
   "execution_count": 5,
   "id": "606fa9ac-8f23-43aa-a2fb-28c178bb9c34",
   "metadata": {},
   "outputs": [],
   "source": [
    "p_list = list(range(1_000_000)) #Klasik python listesi\n",
    "np_array = np.array(p_list) # 1m elemanı olan np array."
   ]
  },
  {
   "cell_type": "code",
   "execution_count": 8,
   "id": "1d6ea007-c564-4f0a-8ca8-bf60d16a9b11",
   "metadata": {},
   "outputs": [
    {
     "name": "stdout",
     "output_type": "stream",
     "text": [
      "29.3 ms ± 962 μs per loop (mean ± std. dev. of 7 runs, 10 loops each)\n"
     ]
    }
   ],
   "source": [
    "%%timeit\n",
    "[x+1 for x in p_list]"
   ]
  },
  {
   "cell_type": "code",
   "execution_count": 9,
   "id": "948df9af-a5cf-4d60-b28f-ed3dea50c79d",
   "metadata": {},
   "outputs": [
    {
     "name": "stdout",
     "output_type": "stream",
     "text": [
      "1.1 ms ± 6.99 μs per loop (mean ± std. dev. of 7 runs, 1,000 loops each)\n"
     ]
    }
   ],
   "source": [
    "%%timeit\n",
    "np_array + 1"
   ]
  },
  {
   "cell_type": "code",
   "execution_count": 10,
   "id": "0fc2af19-7b48-40bd-bf11-fa7c80d35371",
   "metadata": {},
   "outputs": [],
   "source": [
    "arr1 = np.array(1)"
   ]
  },
  {
   "cell_type": "code",
   "execution_count": 12,
   "id": "e207a865-16fa-4778-b608-d1652c37f3a9",
   "metadata": {},
   "outputs": [
    {
     "data": {
      "text/plain": [
       "numpy.ndarray"
      ]
     },
     "execution_count": 12,
     "metadata": {},
     "output_type": "execute_result"
    }
   ],
   "source": [
    "type(arr1) # ndarray -> n-dimensional array"
   ]
  },
  {
   "cell_type": "code",
   "execution_count": 14,
   "id": "f43230f4-dd44-41d1-9e8f-c4fe8dc60cd3",
   "metadata": {},
   "outputs": [
    {
     "data": {
      "text/plain": [
       "0"
      ]
     },
     "execution_count": 14,
     "metadata": {},
     "output_type": "execute_result"
    }
   ],
   "source": [
    "arr1.ndim # ndim -> ndimension(boyutu) -> 0"
   ]
  },
  {
   "cell_type": "code",
   "execution_count": 19,
   "id": "4a700e30-fefc-4228-8467-2fc2c3be86a2",
   "metadata": {},
   "outputs": [
    {
     "data": {
      "text/plain": [
       "(1, (3,))"
      ]
     },
     "execution_count": 19,
     "metadata": {},
     "output_type": "execute_result"
    }
   ],
   "source": [
    "arr2 = np.array([  10, 20, 30 ])\n",
    "arr2.ndim, arr2.shape # 1D Array (Vector)"
   ]
  },
  {
   "cell_type": "code",
   "execution_count": 20,
   "id": "1000efcb-1d83-4bbf-a026-9260136793a0",
   "metadata": {},
   "outputs": [
    {
     "data": {
      "text/plain": [
       "(1, (3,))"
      ]
     },
     "execution_count": 20,
     "metadata": {},
     "output_type": "execute_result"
    }
   ],
   "source": [
    "arr3 = np.array([ 40, 50, 60])\n",
    "arr3.ndim,arr3.shape"
   ]
  },
  {
   "cell_type": "code",
   "execution_count": 21,
   "id": "5824b334-db4e-4661-a579-819061ce2dc1",
   "metadata": {},
   "outputs": [
    {
     "data": {
      "text/plain": [
       "array([50, 70, 90])"
      ]
     },
     "execution_count": 21,
     "metadata": {},
     "output_type": "execute_result"
    }
   ],
   "source": [
    "result = arr2+arr3\n",
    "result"
   ]
  },
  {
   "cell_type": "code",
   "execution_count": 22,
   "id": "b5e6c09f-f84b-4484-a3f5-76661d187445",
   "metadata": {},
   "outputs": [
    {
     "data": {
      "text/plain": [
       "array([30, 30, 30])"
      ]
     },
     "execution_count": 22,
     "metadata": {},
     "output_type": "execute_result"
    }
   ],
   "source": [
    "result2 = arr3-arr2\n",
    "result2"
   ]
  },
  {
   "cell_type": "code",
   "execution_count": 25,
   "id": "78422404-ad07-40c9-b3c3-1a974bc15438",
   "metadata": {},
   "outputs": [
    {
     "ename": "ValueError",
     "evalue": "operands could not be broadcast together with shapes (3,) (2,) ",
     "output_type": "error",
     "traceback": [
      "\u001b[31m---------------------------------------------------------------------------\u001b[39m",
      "\u001b[31mValueError\u001b[39m                                Traceback (most recent call last)",
      "\u001b[36mCell\u001b[39m\u001b[36m \u001b[39m\u001b[32mIn[25]\u001b[39m\u001b[32m, line 2\u001b[39m\n\u001b[32m      1\u001b[39m arr4 = np.array([ \u001b[32m100\u001b[39m,\u001b[32m200\u001b[39m ])\n\u001b[32m----> \u001b[39m\u001b[32m2\u001b[39m \u001b[43marr3\u001b[49m\u001b[43m*\u001b[49m\u001b[43marr4\u001b[49m \u001b[38;5;66;03m#Shape uyuşmazlığı olması durumunda +,- işlemler yapılamaz.\u001b[39;00m\n",
      "\u001b[31mValueError\u001b[39m: operands could not be broadcast together with shapes (3,) (2,) "
     ]
    }
   ],
   "source": [
    "arr4 = np.array([ 100,200 ])\n",
    "arr3*arr4 #Shape uyuşmazlığı olması durumunda matematiksel işlemler yapılamaz."
   ]
  },
  {
   "cell_type": "code",
   "execution_count": null,
   "id": "3669f206-e8b1-4193-a153-c74cddabe4c7",
   "metadata": {},
   "outputs": [],
   "source": []
  }
 ],
 "metadata": {
  "kernelspec": {
   "display_name": "Python 3 (ipykernel)",
   "language": "python",
   "name": "python3"
  },
  "language_info": {
   "codemirror_mode": {
    "name": "ipython",
    "version": 3
   },
   "file_extension": ".py",
   "mimetype": "text/x-python",
   "name": "python",
   "nbconvert_exporter": "python",
   "pygments_lexer": "ipython3",
   "version": "3.11.11"
  }
 },
 "nbformat": 4,
 "nbformat_minor": 5
}
