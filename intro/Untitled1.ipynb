{
 "cells": [
  {
   "cell_type": "code",
   "execution_count": 1,
   "id": "0b69bc8c-79c8-42cb-930a-1cd58898e4e1",
   "metadata": {},
   "outputs": [],
   "source": [
    "import pandas as pd"
   ]
  },
  {
   "cell_type": "markdown",
   "id": "8ed602b5-2caa-4d5c-bb79-3f6e17621e1d",
   "metadata": {},
   "source": [
    "# fillna => Boş değerleri verilen değerler ile değiştirir."
   ]
  },
  {
   "cell_type": "code",
   "execution_count": null,
   "id": "3414ec1b-4741-4e1a-935a-3b9d361644a9",
   "metadata": {},
   "outputs": [],
   "source": []
  }
 ],
 "metadata": {
  "kernelspec": {
   "display_name": "Python 3 (ipykernel)",
   "language": "python",
   "name": "python3"
  },
  "language_info": {
   "codemirror_mode": {
    "name": "ipython",
    "version": 3
   },
   "file_extension": ".py",
   "mimetype": "text/x-python",
   "name": "python",
   "nbconvert_exporter": "python",
   "pygments_lexer": "ipython3",
   "version": "3.9.21"
  }
 },
 "nbformat": 4,
 "nbformat_minor": 5
}
