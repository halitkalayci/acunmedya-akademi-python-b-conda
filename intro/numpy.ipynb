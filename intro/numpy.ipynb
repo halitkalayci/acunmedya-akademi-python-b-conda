{
 "cells": [
  {
   "cell_type": "code",
   "execution_count": 1,
   "id": "51b82ecc-3c1d-4ce9-93a6-41c2a787b8fe",
   "metadata": {},
   "outputs": [],
   "source": [
    "import numpy as np"
   ]
  },
  {
   "cell_type": "code",
   "execution_count": null,
   "id": "cb3e753e-890b-4398-b658-f15d5ac54631",
   "metadata": {},
   "outputs": [],
   "source": [
    "#!pip install numpy"
   ]
  },
  {
   "cell_type": "markdown",
   "id": "de337570-d9cd-49a0-a2c0-acbcdd1437d5",
   "metadata": {},
   "source": [
    "# Numpy (NumericPython)\n",
    "\n",
    "Pythonda matematiksel işlemleri hızlı bir biçimde yapabilmemizi sağlayan kütüphane"
   ]
  },
  {
   "cell_type": "code",
   "execution_count": 5,
   "id": "606fa9ac-8f23-43aa-a2fb-28c178bb9c34",
   "metadata": {},
   "outputs": [],
   "source": [
    "p_list = list(range(1_000_000)) #Klasik python listesi\n",
    "np_array = np.array(p_list) # 1m elemanı olan np array."
   ]
  },
  {
   "cell_type": "code",
   "execution_count": 8,
   "id": "1d6ea007-c564-4f0a-8ca8-bf60d16a9b11",
   "metadata": {},
   "outputs": [
    {
     "name": "stdout",
     "output_type": "stream",
     "text": [
      "29.3 ms ± 962 μs per loop (mean ± std. dev. of 7 runs, 10 loops each)\n"
     ]
    }
   ],
   "source": [
    "%%timeit\n",
    "[x+1 for x in p_list]"
   ]
  },
  {
   "cell_type": "code",
   "execution_count": 9,
   "id": "948df9af-a5cf-4d60-b28f-ed3dea50c79d",
   "metadata": {},
   "outputs": [
    {
     "name": "stdout",
     "output_type": "stream",
     "text": [
      "1.1 ms ± 6.99 μs per loop (mean ± std. dev. of 7 runs, 1,000 loops each)\n"
     ]
    }
   ],
   "source": [
    "%%timeit\n",
    "np_array + 1"
   ]
  },
  {
   "cell_type": "code",
   "execution_count": 10,
   "id": "0fc2af19-7b48-40bd-bf11-fa7c80d35371",
   "metadata": {},
   "outputs": [],
   "source": [
    "arr1 = np.array(1)"
   ]
  },
  {
   "cell_type": "code",
   "execution_count": 12,
   "id": "e207a865-16fa-4778-b608-d1652c37f3a9",
   "metadata": {},
   "outputs": [
    {
     "data": {
      "text/plain": [
       "numpy.ndarray"
      ]
     },
     "execution_count": 12,
     "metadata": {},
     "output_type": "execute_result"
    }
   ],
   "source": [
    "type(arr1) # ndarray -> n-dimensional array"
   ]
  },
  {
   "cell_type": "code",
   "execution_count": 14,
   "id": "f43230f4-dd44-41d1-9e8f-c4fe8dc60cd3",
   "metadata": {},
   "outputs": [
    {
     "data": {
      "text/plain": [
       "0"
      ]
     },
     "execution_count": 14,
     "metadata": {},
     "output_type": "execute_result"
    }
   ],
   "source": [
    "arr1.ndim # ndim -> ndimension(boyutu) -> 0"
   ]
  },
  {
   "cell_type": "code",
   "execution_count": 19,
   "id": "4a700e30-fefc-4228-8467-2fc2c3be86a2",
   "metadata": {},
   "outputs": [
    {
     "data": {
      "text/plain": [
       "(1, (3,))"
      ]
     },
     "execution_count": 19,
     "metadata": {},
     "output_type": "execute_result"
    }
   ],
   "source": [
    "arr2 = np.array([  10, 20, 30 ])\n",
    "arr2.ndim, arr2.shape # 1D Array (Vector)"
   ]
  },
  {
   "cell_type": "code",
   "execution_count": 20,
   "id": "1000efcb-1d83-4bbf-a026-9260136793a0",
   "metadata": {},
   "outputs": [
    {
     "data": {
      "text/plain": [
       "(1, (3,))"
      ]
     },
     "execution_count": 20,
     "metadata": {},
     "output_type": "execute_result"
    }
   ],
   "source": [
    "arr3 = np.array([ 40, 50, 60])\n",
    "arr3.ndim,arr3.shape"
   ]
  },
  {
   "cell_type": "code",
   "execution_count": 21,
   "id": "5824b334-db4e-4661-a579-819061ce2dc1",
   "metadata": {},
   "outputs": [
    {
     "data": {
      "text/plain": [
       "array([50, 70, 90])"
      ]
     },
     "execution_count": 21,
     "metadata": {},
     "output_type": "execute_result"
    }
   ],
   "source": [
    "result = arr2+arr3\n",
    "result"
   ]
  },
  {
   "cell_type": "code",
   "execution_count": 22,
   "id": "b5e6c09f-f84b-4484-a3f5-76661d187445",
   "metadata": {},
   "outputs": [
    {
     "data": {
      "text/plain": [
       "array([30, 30, 30])"
      ]
     },
     "execution_count": 22,
     "metadata": {},
     "output_type": "execute_result"
    }
   ],
   "source": [
    "result2 = arr3-arr2\n",
    "result2"
   ]
  },
  {
   "cell_type": "code",
   "execution_count": 25,
   "id": "78422404-ad07-40c9-b3c3-1a974bc15438",
   "metadata": {},
   "outputs": [
    {
     "ename": "ValueError",
     "evalue": "operands could not be broadcast together with shapes (3,) (2,) ",
     "output_type": "error",
     "traceback": [
      "\u001b[31m---------------------------------------------------------------------------\u001b[39m",
      "\u001b[31mValueError\u001b[39m                                Traceback (most recent call last)",
      "\u001b[36mCell\u001b[39m\u001b[36m \u001b[39m\u001b[32mIn[25]\u001b[39m\u001b[32m, line 2\u001b[39m\n\u001b[32m      1\u001b[39m arr4 = np.array([ \u001b[32m100\u001b[39m,\u001b[32m200\u001b[39m ])\n\u001b[32m----> \u001b[39m\u001b[32m2\u001b[39m \u001b[43marr3\u001b[49m\u001b[43m*\u001b[49m\u001b[43marr4\u001b[49m \u001b[38;5;66;03m#Shape uyuşmazlığı olması durumunda +,- işlemler yapılamaz.\u001b[39;00m\n",
      "\u001b[31mValueError\u001b[39m: operands could not be broadcast together with shapes (3,) (2,) "
     ]
    }
   ],
   "source": [
    "arr4 = np.array([ 100,200 ])\n",
    "arr3*arr4 #Shape uyuşmazlığı olması durumunda matematiksel işlemler yapılamaz."
   ]
  },
  {
   "cell_type": "code",
   "execution_count": 26,
   "id": "3669f206-e8b1-4193-a153-c74cddabe4c7",
   "metadata": {},
   "outputs": [
    {
     "data": {
      "text/plain": [
       "(2, (2, 3))"
      ]
     },
     "execution_count": 26,
     "metadata": {},
     "output_type": "execute_result"
    }
   ],
   "source": [
    "arr5 = np.array(\n",
    "    [\n",
    "        [10,20,30],\n",
    "        [40,50,60]\n",
    "    ]\n",
    ")\n",
    "# 2 boyutlu , 2,3 şekilli bir matris.\n",
    "arr5.ndim, arr5.shape"
   ]
  },
  {
   "cell_type": "code",
   "execution_count": 27,
   "id": "7cb616e9-e71a-41fc-92af-e21dea4108ae",
   "metadata": {},
   "outputs": [
    {
     "data": {
      "text/plain": [
       "(2, (2, 3))"
      ]
     },
     "execution_count": 27,
     "metadata": {},
     "output_type": "execute_result"
    }
   ],
   "source": [
    "arr6 = np.array(\n",
    "    [\n",
    "        [70, 80, 90],\n",
    "        [100, 110, 120]\n",
    "    ]\n",
    ")\n",
    "arr6.ndim, arr6.shape"
   ]
  },
  {
   "cell_type": "code",
   "execution_count": 28,
   "id": "bbdb2624-d05b-48ae-b72c-a3c6e35370b4",
   "metadata": {},
   "outputs": [
    {
     "data": {
      "text/plain": [
       "array([[ 80, 100, 120],\n",
       "       [140, 160, 180]])"
      ]
     },
     "execution_count": 28,
     "metadata": {},
     "output_type": "execute_result"
    }
   ],
   "source": [
    "result = arr5+arr6\n",
    "result"
   ]
  },
  {
   "cell_type": "markdown",
   "id": "f0b603eb-3a8e-44bd-bcde-99058e468e24",
   "metadata": {},
   "source": [
    "# Dot Product (İç Çarpım)"
   ]
  },
  {
   "cell_type": "code",
   "execution_count": 29,
   "id": "e4e7eb6c-efc4-4ed8-8a59-fd176cb5e39e",
   "metadata": {},
   "outputs": [
    {
     "ename": "ValueError",
     "evalue": "shapes (2,3) and (2,3) not aligned: 3 (dim 1) != 2 (dim 0)",
     "output_type": "error",
     "traceback": [
      "\u001b[31m---------------------------------------------------------------------------\u001b[39m",
      "\u001b[31mValueError\u001b[39m                                Traceback (most recent call last)",
      "\u001b[36mCell\u001b[39m\u001b[36m \u001b[39m\u001b[32mIn[29]\u001b[39m\u001b[32m, line 1\u001b[39m\n\u001b[32m----> \u001b[39m\u001b[32m1\u001b[39m \u001b[43mnp\u001b[49m\u001b[43m.\u001b[49m\u001b[43mdot\u001b[49m\u001b[43m(\u001b[49m\u001b[43marr5\u001b[49m\u001b[43m,\u001b[49m\u001b[43marr6\u001b[49m\u001b[43m)\u001b[49m\n",
      "\u001b[31mValueError\u001b[39m: shapes (2,3) and (2,3) not aligned: 3 (dim 1) != 2 (dim 0)"
     ]
    }
   ],
   "source": [
    "np.dot(arr5,arr6)"
   ]
  },
  {
   "cell_type": "code",
   "execution_count": 30,
   "id": "7381b34b-10df-400f-a672-9f3c77ee4a19",
   "metadata": {},
   "outputs": [
    {
     "data": {
      "text/plain": [
       "((2, 3), (3, 2))"
      ]
     },
     "execution_count": 30,
     "metadata": {},
     "output_type": "execute_result"
    }
   ],
   "source": [
    "arr7 = np.array([\n",
    "    [10,20,30],\n",
    "    [40,50,60]\n",
    "])\n",
    "\n",
    "arr8 = np.array(\n",
    "    [\n",
    "        [10,20],\n",
    "        [30,40],\n",
    "        [50,60]\n",
    "    ]\n",
    ")\n",
    "arr7.shape, arr8.shape\n",
    "#Dot Product -> İlk matrisin sütun sayısı, ikinci matrisin satır sayısına eşit olmalı."
   ]
  },
  {
   "cell_type": "code",
   "execution_count": 31,
   "id": "f6f17e9d-30f8-4289-b4b2-da548d21c59e",
   "metadata": {},
   "outputs": [
    {
     "data": {
      "text/plain": [
       "array([[2200, 2800],\n",
       "       [4900, 6400]])"
      ]
     },
     "execution_count": 31,
     "metadata": {},
     "output_type": "execute_result"
    }
   ],
   "source": [
    "np.dot(arr7,arr8)"
   ]
  },
  {
   "cell_type": "code",
   "execution_count": 34,
   "id": "2b240324-4b96-46cb-a070-930d32ec4ab8",
   "metadata": {},
   "outputs": [
    {
     "data": {
      "text/plain": [
       "(3, (2, 3, 4))"
      ]
     },
     "execution_count": 34,
     "metadata": {},
     "output_type": "execute_result"
    }
   ],
   "source": [
    "arr9 = np.array(\n",
    "    [\n",
    "        [ [10,20,30,40] , [30,40,50,60], [50,60,70,80] ],\n",
    "        [ [70,80,90,100], [90,100,110,120],  [110,120,130,40] ]\n",
    "    ]\n",
    ")\n",
    "# 3D array,\n",
    "arr9.ndim, arr9.shape"
   ]
  },
  {
   "cell_type": "code",
   "execution_count": 36,
   "id": "76637183-fe78-49a2-8e1b-822fafa11c62",
   "metadata": {},
   "outputs": [
    {
     "data": {
      "text/plain": [
       "array([[ 48, 250,  28, ..., 220,  37, 145],\n",
       "       [ 13, 186, 205, ..., 100,  23, 136],\n",
       "       [ 14, 245, 228, ..., 154, 226,  70],\n",
       "       ...,\n",
       "       [ 10,  91,  78, ...,  67, 229, 159],\n",
       "       [210,   3,  76, ...,  54, 170,  85],\n",
       "       [114, 196, 204, ...,  12, 195,   9]],\n",
       "      shape=(1500, 1000), dtype=int32)"
      ]
     },
     "execution_count": 36,
     "metadata": {},
     "output_type": "execute_result"
    }
   ],
   "source": [
    "arr10 = np.random.randint(0,255, (1500,1000))\n",
    "arr10"
   ]
  },
  {
   "cell_type": "code",
   "execution_count": 44,
   "id": "fbde860b-15b3-4659-9be1-22c559b0e5d8",
   "metadata": {},
   "outputs": [
    {
     "name": "stdout",
     "output_type": "stream",
     "text": [
      "Requirement already satisfied: Pillow in c:\\users\\pc1\\miniconda3\\envs\\my_env\\lib\\site-packages (11.1.0)\n"
     ]
    }
   ],
   "source": [
    "!pip install Pillow"
   ]
  },
  {
   "cell_type": "code",
   "execution_count": 37,
   "id": "bdc97639-5571-4aa2-afbe-49000af84e26",
   "metadata": {},
   "outputs": [],
   "source": [
    "from PIL import Image"
   ]
  },
  {
   "cell_type": "code",
   "execution_count": 39,
   "id": "dd77a8cb-d79c-4b9e-bc0d-638927577195",
   "metadata": {},
   "outputs": [],
   "source": [
    "image = Image.open(\"kedi.jpg\")"
   ]
  },
  {
   "cell_type": "code",
   "execution_count": 42,
   "id": "560c5023-48e2-4a68-969e-0b22f382ec3e",
   "metadata": {},
   "outputs": [
    {
     "data": {
      "text/plain": [
       "(3, (1500, 1000, 3))"
      ]
     },
     "execution_count": 42,
     "metadata": {},
     "output_type": "execute_result"
    }
   ],
   "source": [
    "image_arr = np.array(image)\n",
    "image_arr.ndim, image_arr.shape"
   ]
  },
  {
   "cell_type": "code",
   "execution_count": 43,
   "id": "b5a0152a-e825-4806-87b0-44f322027aa2",
   "metadata": {},
   "outputs": [
    {
     "data": {
      "text/plain": [
       "array([[[ 92,  87,  84],\n",
       "        [ 92,  87,  84],\n",
       "        [ 92,  87,  84],\n",
       "        ...,\n",
       "        [ 96, 101, 104],\n",
       "        [ 99, 104, 107],\n",
       "        [101, 106, 109]],\n",
       "\n",
       "       [[ 92,  87,  84],\n",
       "        [ 92,  87,  84],\n",
       "        [ 92,  87,  84],\n",
       "        ...,\n",
       "        [ 96, 101, 104],\n",
       "        [ 99, 104, 107],\n",
       "        [101, 106, 109]],\n",
       "\n",
       "       [[ 92,  87,  84],\n",
       "        [ 92,  87,  84],\n",
       "        [ 92,  87,  84],\n",
       "        ...,\n",
       "        [ 96, 101, 104],\n",
       "        [ 99, 104, 107],\n",
       "        [101, 106, 109]],\n",
       "\n",
       "       ...,\n",
       "\n",
       "       [[  2,   2,   4],\n",
       "        [  2,   2,   4],\n",
       "        [  2,   2,   4],\n",
       "        ...,\n",
       "        [ 35,  25,  23],\n",
       "        [ 35,  25,  23],\n",
       "        [ 35,  25,  23]],\n",
       "\n",
       "       [[  2,   2,   4],\n",
       "        [  2,   2,   4],\n",
       "        [  2,   2,   4],\n",
       "        ...,\n",
       "        [ 36,  26,  24],\n",
       "        [ 36,  26,  24],\n",
       "        [ 36,  26,  24]],\n",
       "\n",
       "       [[  3,   3,   5],\n",
       "        [  3,   3,   5],\n",
       "        [  3,   3,   5],\n",
       "        ...,\n",
       "        [ 37,  27,  25],\n",
       "        [ 37,  27,  25],\n",
       "        [ 37,  27,  25]]], shape=(1500, 1000, 3), dtype=uint8)"
      ]
     },
     "execution_count": 43,
     "metadata": {},
     "output_type": "execute_result"
    }
   ],
   "source": [
    "image_arr"
   ]
  },
  {
   "cell_type": "code",
   "execution_count": null,
   "id": "c2f7f8aa-cac7-4726-a134-ed57e19beba0",
   "metadata": {},
   "outputs": [],
   "source": []
  }
 ],
 "metadata": {
  "kernelspec": {
   "display_name": "Python 3 (ipykernel)",
   "language": "python",
   "name": "python3"
  },
  "language_info": {
   "codemirror_mode": {
    "name": "ipython",
    "version": 3
   },
   "file_extension": ".py",
   "mimetype": "text/x-python",
   "name": "python",
   "nbconvert_exporter": "python",
   "pygments_lexer": "ipython3",
   "version": "3.11.11"
  }
 },
 "nbformat": 4,
 "nbformat_minor": 5
}
